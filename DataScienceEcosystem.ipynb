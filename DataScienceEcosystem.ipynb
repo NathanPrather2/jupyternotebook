{
 "cells": [
  {
   "cell_type": "markdown",
   "id": "9b86a63d-476e-4468-983f-c49a963a8c80",
   "metadata": {},
   "source": [
    "# Data Science Tools and Ecosystem"
   ]
  },
  {
   "cell_type": "markdown",
   "id": "a00f7096-4937-4a63-8c45-41c0edc7ca24",
   "metadata": {},
   "source": [
    "In this notebook, Data Science Tools and Ecosystem are summarized."
   ]
  },
  {
   "cell_type": "markdown",
   "id": "472be1f5-ae9d-48f9-b821-a86a2b3ed1be",
   "metadata": {},
   "source": [
    "__Objectives:__\n",
    "\n",
    "* List popular languages for Data Scientists\n",
    "* List commonly used libraries used by Data Scientists\n",
    "* List commonly used data science tools by Data Scientists"
   ]
  },
  {
   "cell_type": "markdown",
   "id": "e91f86da-878a-48bb-89e0-84179e349e79",
   "metadata": {},
   "source": [
    "Some of the popular languages that Data Scientists use are:\n",
    "\n",
    "1. Python\n",
    "2. R\n",
    "3. SQL\n",
    "   \n",
    "   "
   ]
  },
  {
   "cell_type": "markdown",
   "id": "2113e89d-54e5-42ed-9e75-97da9021cef4",
   "metadata": {},
   "source": [
    "Some of the commonly used libraries used by Data Scientists include:\n",
    "\n",
    "1. NumPy\n",
    "2. Pandas\n",
    "3. Keras"
   ]
  },
  {
   "cell_type": "markdown",
   "id": "934c5518-4e9d-4338-8b1c-ef203e8e5aa2",
   "metadata": {},
   "source": [
    "| Data Science Tools|\n",
    "|-------------------|\n",
    "|SAS|\n",
    "|Apache Hadoop|\n",
    "|Tensorflow|"
   ]
  },
  {
   "cell_type": "markdown",
   "id": "0b3859f3-0397-424d-9518-2ddae27d357c",
   "metadata": {},
   "source": [
    "### Below are a few examples of evaluating arithmetic expressions in Python."
   ]
  },
  {
   "cell_type": "code",
   "execution_count": 4,
   "id": "311780b8-fa94-4fb7-87fa-593737026212",
   "metadata": {},
   "outputs": [
    {
     "data": {
      "text/plain": [
       "17"
      ]
     },
     "execution_count": 4,
     "metadata": {},
     "output_type": "execute_result"
    }
   ],
   "source": [
    "#this is a simple arithmetic expression to multiply then add integers\n",
    "(3*4)+5"
   ]
  },
  {
   "cell_type": "code",
   "execution_count": 5,
   "id": "547b8164-3bd8-4b44-8c66-dceeff7a5c4c",
   "metadata": {},
   "outputs": [
    {
     "data": {
      "text/plain": [
       "3.3333333333333335"
      ]
     },
     "execution_count": 5,
     "metadata": {},
     "output_type": "execute_result"
    }
   ],
   "source": [
    "#this will convert 200 minutes to hours by dividing by 60\n",
    "200/60"
   ]
  },
  {
   "cell_type": "markdown",
   "id": "c1d1a387-aaf6-4929-8389-75ab77409aad",
   "metadata": {},
   "source": [
    "## Author\n",
    "\n",
    "\n",
    "Nathan Prather"
   ]
  },
  {
   "cell_type": "code",
   "execution_count": null,
   "id": "13400c92-4261-490b-b6cb-e7d27e0e24ba",
   "metadata": {},
   "outputs": [],
   "source": []
  }
 ],
 "metadata": {
  "kernelspec": {
   "display_name": "Python 3 (ipykernel)",
   "language": "python",
   "name": "python3"
  },
  "language_info": {
   "codemirror_mode": {
    "name": "ipython",
    "version": 3
   },
   "file_extension": ".py",
   "mimetype": "text/x-python",
   "name": "python",
   "nbconvert_exporter": "python",
   "pygments_lexer": "ipython3",
   "version": "3.11.9"
  }
 },
 "nbformat": 4,
 "nbformat_minor": 5
}
